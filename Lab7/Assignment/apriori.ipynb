{
 "cells": [
  {
   "cell_type": "code",
   "execution_count": 5,
   "metadata": {
    "colab": {
     "base_uri": "https://localhost:8080/"
    },
    "id": "dHlrUf-G8hnp",
    "outputId": "4ecfd6ba-6bd7-4892-d0c8-2586205df5f8"
   },
   "outputs": [
    {
     "name": "stdout",
     "output_type": "stream",
     "text": [
      "Requirement already satisfied: efficient_apriori in c:\\users\\beeta\\appdata\\local\\programs\\python\\python39\\lib\\site-packages (1.1.1)\n"
     ]
    }
   ],
   "source": [
    "!pip install efficient_apriori"
   ]
  },
  {
   "cell_type": "code",
   "execution_count": 6,
   "metadata": {
    "id": "u60o2ncM8rIL"
   },
   "outputs": [],
   "source": [
    "from efficient_apriori import apriori"
   ]
  },
  {
   "cell_type": "code",
   "execution_count": 7,
   "metadata": {},
   "outputs": [
    {
     "name": "stderr",
     "output_type": "stream",
     "text": [
      "Downloading...\n",
      "From: https://drive.google.com/uc?id=1AbvTYu_UDv_IKqmh0CNLfib47aqqBt2Z\n",
      "To: D:\\Desktop Files\\Beeta\\College\\6th Semester - Study Materials\\Data Mining\\Lab\\Lab7\\Assignment\\L7_Groceries.csv\n",
      "\n",
      "  0%|          | 0.00/501k [00:00<?, ?B/s]\n",
      "100%|##########| 501k/501k [00:00<00:00, 2.64MB/s]\n",
      "100%|##########| 501k/501k [00:00<00:00, 2.64MB/s]\n"
     ]
    }
   ],
   "source": [
    "#Downloading the dataset:\n",
    "!gdown --id \"1AbvTYu_UDv_IKqmh0CNLfib47aqqBt2Z\""
   ]
  },
  {
   "cell_type": "code",
   "execution_count": 8,
   "metadata": {},
   "outputs": [],
   "source": [
    "#Storing all the transactions from the dataset in a list \n",
    "list_of_transactions = []\n",
    "\n",
    "for line in open(\"L7_Groceries.csv\"):\n",
    "    transaction = line.split(\",\")\n",
    "    transaction[len(transaction)-1] = transaction[len(transaction)-1].replace(\"\\n\", \"\")\n",
    "    list_of_transactions.append(transaction)\n",
    "    \n",
    "transactions = list_of_transactions"
   ]
  },
  {
   "cell_type": "code",
   "execution_count": 10,
   "metadata": {
    "colab": {
     "base_uri": "https://localhost:8080/"
    },
    "id": "P_s7lWRQ8x2O",
    "outputId": "d8d4b4fa-f453-413b-a0ee-d8fe438f1d40"
   },
   "outputs": [
    {
     "name": "stdout",
     "output_type": "stream",
     "text": [
      "{}\n",
      "[]\n"
     ]
    }
   ],
   "source": [
    "itemsets, rules = apriori(transactions, min_support=0.3, min_confidence=0.6)\n",
    "print(itemsets)\n",
    "print(rules)"
   ]
  }
 ],
 "metadata": {
  "colab": {
   "name": "apriori.ipynb",
   "provenance": []
  },
  "kernelspec": {
   "display_name": "Python 3",
   "language": "python",
   "name": "python3"
  },
  "language_info": {
   "codemirror_mode": {
    "name": "ipython",
    "version": 3
   },
   "file_extension": ".py",
   "mimetype": "text/x-python",
   "name": "python",
   "nbconvert_exporter": "python",
   "pygments_lexer": "ipython3",
   "version": "3.9.0"
  }
 },
 "nbformat": 4,
 "nbformat_minor": 1
}
