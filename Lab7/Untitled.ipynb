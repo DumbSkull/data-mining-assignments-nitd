{
 "cells": [
  {
   "cell_type": "markdown",
   "metadata": {},
   "source": [
    "## LAB Assignment 7: Association Mining\n",
    "### Name: Beeta Samad <br> Roll number: 181210016"
   ]
  },
  {
   "cell_type": "code",
   "execution_count": 1,
   "metadata": {},
   "outputs": [
    {
     "name": "stdout",
     "output_type": "stream",
     "text": [
      "Collecting efficient_apriori\n",
      "  Downloading efficient_apriori-1.1.1-py3-none-any.whl (14 kB)\n",
      "Installing collected packages: efficient-apriori\n",
      "Successfully installed efficient-apriori-1.1.1\n"
     ]
    }
   ],
   "source": [
    "!pip install efficient_apriori"
   ]
  },
  {
   "cell_type": "code",
   "execution_count": 4,
   "metadata": {},
   "outputs": [],
   "source": [
    "from efficient_apriori import apriori"
   ]
  },
  {
   "cell_type": "code",
   "execution_count": 37,
   "metadata": {
    "scrolled": false
   },
   "outputs": [
    {
     "name": "stdout",
     "output_type": "stream",
     "text": [
      "Itemsets:  {1: {('Cheese',): 3, ('Milk',): 3, ('Juice',): 4, ('Bread',): 4}, 2: {('Cheese', 'Juice'): 3, ('Bread', 'Juice'): 3}}\n",
      "Rules:  [{Juice} -> {Cheese}, {Cheese} -> {Juice}, {Juice} -> {Bread}, {Bread} -> {Juice}]\n"
     ]
    }
   ],
   "source": [
    "transactions=[('Cheese', 'Juice', 'Milk'),('Bread', 'Juice', 'Milk'),('Bread', 'Cheese', 'Egg','Juice'),('Bread','Milk','Yogurt'),('Bread', 'Cheese', 'Juice')]\n",
    "itemsets, rules = apriori(transactions, min_support=0.5, min_confidence=0.6)\n",
    "print(\"Itemsets: \", itemsets)\n",
    "print(\"Rules: \", rules)"
   ]
  },
  {
   "cell_type": "code",
   "execution_count": 38,
   "metadata": {},
   "outputs": [],
   "source": [
    "def data_generator(filename):\n",
    "  def data_gen():\n",
    "    with open(filename) as file:\n",
    "      for line in file:\n",
    "        yield tuple(k.strip() for k in line.split(','))      \n",
    "  return data_gen"
   ]
  },
  {
   "cell_type": "code",
   "execution_count": 44,
   "metadata": {},
   "outputs": [],
   "source": [
    "transactions = data_generator('L7_Groceries.csv')\n",
    "itemsets, rules = apriori(transactions, min_support=0.9,  min_confidence=1)\n",
    "\n",
    "# Print out every rule with 2 items on the left hand side,\n",
    "# 1 item on the right hand side, sorted by lift\n",
    "rules_rhs = filter(lambda rule: len(rule.lhs) == 2 and len(rule.rhs) == 1, rules)\n",
    "for rule in sorted(rules_rhs, key=lambda rule: rule.lift):\n",
    "    print(rule.lhs,\" -->\", rule.rhs, \" | Support:\", rule.support, \", Confidence:\", rule.confidence, \", Lift: \", rule.lift)"
   ]
  },
  {
   "cell_type": "code",
   "execution_count": null,
   "metadata": {},
   "outputs": [],
   "source": []
  }
 ],
 "metadata": {
  "kernelspec": {
   "display_name": "Python 3",
   "language": "python",
   "name": "python3"
  },
  "language_info": {
   "codemirror_mode": {
    "name": "ipython",
    "version": 3
   },
   "file_extension": ".py",
   "mimetype": "text/x-python",
   "name": "python",
   "nbconvert_exporter": "python",
   "pygments_lexer": "ipython3",
   "version": "3.9.0"
  }
 },
 "nbformat": 4,
 "nbformat_minor": 4
}
