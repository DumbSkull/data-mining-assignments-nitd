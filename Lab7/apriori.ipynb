{
 "cells": [
  {
   "cell_type": "code",
   "execution_count": 1,
   "metadata": {
    "colab": {
     "base_uri": "https://localhost:8080/"
    },
    "id": "dHlrUf-G8hnp",
    "outputId": "4ecfd6ba-6bd7-4892-d0c8-2586205df5f8"
   },
   "outputs": [
    {
     "name": "stdout",
     "output_type": "stream",
     "text": [
      "Collecting efficient_apriori\n",
      "  Downloading https://files.pythonhosted.org/packages/5a/c6/ecdf3a32d23cada466634c649cf4f50fefe76f56eae53ecceff688b306be/efficient_apriori-1.1.1-py3-none-any.whl\n",
      "Installing collected packages: efficient-apriori\n",
      "Successfully installed efficient-apriori-1.1.1\n"
     ]
    }
   ],
   "source": [
    "!pip install efficient_apriori"
   ]
  },
  {
   "cell_type": "code",
   "execution_count": 2,
   "metadata": {
    "id": "u60o2ncM8rIL"
   },
   "outputs": [],
   "source": [
    "from efficient_apriori import apriori"
   ]
  },
  {
   "cell_type": "code",
   "execution_count": 5,
   "metadata": {
    "colab": {
     "base_uri": "https://localhost:8080/"
    },
    "id": "P_s7lWRQ8x2O",
    "outputId": "d8d4b4fa-f453-413b-a0ee-d8fe438f1d40"
   },
   "outputs": [
    {
     "name": "stdout",
     "output_type": "stream",
     "text": [
      "{1: {('Milk',): 3, ('Juice',): 4, ('Cheese',): 3, ('Bread',): 4}, 2: {('Cheese', 'Juice'): 3, ('Bread', 'Juice'): 3}}\n",
      "[{Juice} -> {Cheese}, {Cheese} -> {Juice}, {Juice} -> {Bread}, {Bread} -> {Juice}]\n"
     ]
    }
   ],
   "source": [
    "transactions=[('Cheese', 'Juice', 'Milk'),('Bread', 'Juice', 'Milk'),('Bread', 'Cheese', 'Egg','Juice'),('Bread','Milk','Yogurt'),('Bread', 'Cheese', 'Juice')]\n",
    "itemsets, rules = apriori(transactions, min_support=0.5, min_confidence=0.6)\n",
    "print(itemsets)\n",
    "print(rules)"
   ]
  }
 ],
 "metadata": {
  "colab": {
   "name": "apriori.ipynb",
   "provenance": []
  },
  "kernelspec": {
   "display_name": "Python 3",
   "language": "python",
   "name": "python3"
  },
  "language_info": {
   "codemirror_mode": {
    "name": "ipython",
    "version": 3
   },
   "file_extension": ".py",
   "mimetype": "text/x-python",
   "name": "python",
   "nbconvert_exporter": "python",
   "pygments_lexer": "ipython3",
   "version": "3.9.0"
  }
 },
 "nbformat": 4,
 "nbformat_minor": 1
}
