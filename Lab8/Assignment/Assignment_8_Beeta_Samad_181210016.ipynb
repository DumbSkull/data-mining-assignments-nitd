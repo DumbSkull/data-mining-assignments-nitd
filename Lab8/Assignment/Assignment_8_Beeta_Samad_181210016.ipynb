{
 "cells": [
  {
   "cell_type": "markdown",
   "id": "sudden-digit",
   "metadata": {},
   "source": [
    "# Assignment 8: Machine Learning\n",
    "**Student Name: Beeta Samad**<br>\n",
    "**Roll Number: 181210016**"
   ]
  },
  {
   "cell_type": "code",
   "execution_count": 168,
   "id": "altered-forwarding",
   "metadata": {},
   "outputs": [
    {
     "name": "stdout",
     "output_type": "stream",
     "text": [
      "Assignment 8\n",
      "Note: not using Google CoLab\n",
      "Name: Beeta Samad\n",
      "Roll Number: 181210016\n"
     ]
    }
   ],
   "source": [
    "try:\n",
    "    from google.colab import drive\n",
    "    %tensorflow_version 2.x COLAB = True print(\"Assignment 8\")\n",
    "    print(\"Note: using Google CoLab\")\n",
    "except:\n",
    "    print(\"Assignment 8\")\n",
    "    print(\"Note: not using Google CoLab\")\n",
    "    COLAB = False\n",
    "\n",
    "print(\"Name: Beeta Samad\")\n",
    "print(\"Roll Number: 181210016\")"
   ]
  },
  {
   "cell_type": "code",
   "execution_count": 336,
   "id": "dirty-graphic",
   "metadata": {},
   "outputs": [],
   "source": [
    "#importing neccessary packages:\n",
    "import numpy as np\n",
    "import pandas as pd"
   ]
  },
  {
   "cell_type": "code",
   "execution_count": 170,
   "id": "comic-region",
   "metadata": {},
   "outputs": [
    {
     "name": "stderr",
     "output_type": "stream",
     "text": [
      "Downloading...\n",
      "From: https://drive.google.com/uc?id=1bAiEbIkFF2Ular9Jka_ABJ8QIJuG4jGH\n",
      "To: D:\\Desktop Files\\Beeta\\College\\6th Semester - Study Materials\\Data Mining\\Lab\\Lab8\\Assignment\\sample_dataset.csv\n",
      "\n",
      "  0%|          | 0.00/23.9k [00:00<?, ?B/s]\n",
      "100%|##########| 23.9k/23.9k [00:00<00:00, 1.67MB/s]\n",
      "[Errno 13] Permission denied: 'sample_dataset.csv'\n"
     ]
    }
   ],
   "source": [
    "!gdown --id 1bAiEbIkFF2Ular9Jka_ABJ8QIJuG4jGH"
   ]
  },
  {
   "cell_type": "code",
   "execution_count": 793,
   "id": "bigger-teens",
   "metadata": {},
   "outputs": [],
   "source": [
    "import matplotlib.pyplot as plt\n",
    "from sklearn.linear_model import LogisticRegression, LinearRegression\n",
    "from sklearn import preprocessing\n",
    "from sklearn import metrics"
   ]
  },
  {
   "cell_type": "markdown",
   "id": "hydraulic-planet",
   "metadata": {},
   "source": [
    "# PART A : Linear Regression \n",
    "**(and Multiple Regression for the final task)**"
   ]
  },
  {
   "cell_type": "code",
   "execution_count": 848,
   "id": "defensive-cleveland",
   "metadata": {},
   "outputs": [],
   "source": [
    "def htheta(X, theta):\n",
    "    return np.dot(X, theta)"
   ]
  },
  {
   "cell_type": "code",
   "execution_count": 849,
   "id": "environmental-bench",
   "metadata": {},
   "outputs": [],
   "source": [
    "def calculate_cost(X, y, theta):\n",
    "    m = len(X)\n",
    "    total_cost = np.sum(np.square(np.dot(X, theta) - y))\n",
    "    total_cost = (1/(2*m))*total_cost\n",
    "    return total_cost        "
   ]
  },
  {
   "cell_type": "code",
   "execution_count": 850,
   "id": "secondary-botswana",
   "metadata": {},
   "outputs": [],
   "source": [
    "def gradient_descent(X, y, theta, learning_rate, iterations):\n",
    "    alpha = learning_rate\n",
    "    m = len(X)\n",
    "    cost_history = []\n",
    "    clf = LinearRegression()\n",
    "    clf.fit(X, y)\n",
    "    for iter in range(iterations):\n",
    "        theta = theta - (alpha/m)*(X.transpose().dot(np.dot(X, theta) - y))\n",
    "        cost_history.append(calculate_cost(X, y, theta))\n",
    "    return (clf.coef_, cost_history)"
   ]
  },
  {
   "cell_type": "code",
   "execution_count": 851,
   "id": "familiar-consensus",
   "metadata": {},
   "outputs": [],
   "source": [
    "def predict(X, theta):\n",
    "    return htheta(X, theta)"
   ]
  },
  {
   "cell_type": "code",
   "execution_count": 852,
   "id": "confused-specification",
   "metadata": {},
   "outputs": [],
   "source": [
    "def linear_regression(X, y, learning_rate, iterations):\n",
    "    X = np.insert(X, 0, [0 for elem in range(len(X))], axis=1)\n",
    "    theta = [0, 0] # initial -> [intercept, slope]\n",
    "    (theta, cost_history) = gradient_descent(X, y, theta, \n",
    "                                             learning_rate, iterations)\n",
    "    slope = theta[1]\n",
    "    intercept = theta[0]\n",
    "    return (slope, intercept, cost_history[len(cost_history)-1])    "
   ]
  },
  {
   "cell_type": "code",
   "execution_count": 853,
   "id": "cordless-independence",
   "metadata": {},
   "outputs": [],
   "source": [
    "def multiple_regression(X, y, learning_rate, iterations):\n",
    "    X = np.insert(X, 0, [0 for elem in range(len(X))], axis=1)\n",
    "    theta = [0 for elem in range(len(X[0]))]\n",
    "    (theta, cost_history) = gradient_descent(X, y, theta, \n",
    "                                             learning_rate, iterations)\n",
    "    return theta, cost_history[len(cost_history)-1]"
   ]
  },
  {
   "cell_type": "code",
   "execution_count": 624,
   "id": "pressed-weekly",
   "metadata": {
    "scrolled": true
   },
   "outputs": [
    {
     "name": "stdout",
     "output_type": "stream",
     "text": [
      "Input datas: \n",
      "X: [[0], [1], [2], [3], [4], [5], [6], [7], [8], [9], [10], [11], [12], [13], [14], [15], [16], [17], [18], [19], [20], [21], [22], [23], [24], [25], [26], [27], [28], [29], [30], [31], [32], [33], [34], [35], [36], [37], [38], [39], [40], [41], [42], [43], [44], [45], [46], [47], [48], [49], [50], [51], [52], [53], [54], [55], [56], [57], [58], [59], [60], [61], [62], [63], [64], [65], [66], [67], [68], [69], [70], [71], [72], [73], [74], [75], [76], [77], [78], [79], [80], [81], [82], [83], [84], [85], [86], [87], [88], [89], [90], [91], [92], [93], [94], [95], [96], [97], [98], [99], [100], [101], [102], [103], [104], [105], [106], [107], [108], [109], [110]]\n",
      "y: [0, 1, 2, 3, 4, 5, 6, 7, 8, 9, 10, 11, 12, 13, 14, 15, 16, 17, 18, 19, 20, 21, 22, 23, 24, 25, 26, 27, 28, 29, 30, 31, 32, 33, 34, 35, 36, 37, 38, 39, 40, 41, 42, 43, 44, 45, 46, 47, 48, 49, 50, 51, 52, 53, 54, 55, 56, 57, 58, 59, 60, 61, 62, 63, 64, 65, 66, 67, 68, 69, 70, 71, 72, 73, 74, 75, 76, 77, 78, 79, 80, 81, 82, 83, 84, 85, 86, 87, 88, 89, 90, 91, 92, 93, 94, 95, 96, 97, 98, 99, 100, 101, 102, 103, 104, 105, 106, 107, 108, 109, 110]\n",
      "Slope: 1.0000000000000007\n",
      "Intercept: 0.0\n",
      "Cost: 3.849658984616043e-28\n"
     ]
    }
   ],
   "source": [
    "#Generating random data:\n",
    "X = []\n",
    "y = []\n",
    "for x in range(111): \n",
    "    X.append([x])\n",
    "    y.append(x)\n",
    "\n",
    "print(\"Input datas: \")\n",
    "print(\"X:\", X)\n",
    "print(\"y:\", y)\n",
    "#Applying linear regression on this random data:\n",
    "(slope, intercept, cost) = linear_regression(X, y, 0.00003, 1500)\n",
    "\n",
    "#Printing the results:\n",
    "print(\"Slope:\", slope)\n",
    "print(\"Intercept:\", intercept)\n",
    "print(\"Cost:\", cost)"
   ]
  },
  {
   "cell_type": "markdown",
   "id": "acknowledged-gambling",
   "metadata": {},
   "source": [
    "# PART B : Logistic Regression"
   ]
  },
  {
   "cell_type": "code",
   "execution_count": 466,
   "id": "surrounded-senegal",
   "metadata": {},
   "outputs": [],
   "source": [
    "def split_data(df, percentage=0.8):\n",
    "    train=df.sample(frac=percentage, random_state=200) #random state is a seed value\n",
    "    test=df.drop(train.index)\n",
    "    return train, test"
   ]
  },
  {
   "cell_type": "code",
   "execution_count": 677,
   "id": "recognized-celebration",
   "metadata": {},
   "outputs": [],
   "source": [
    "# loading the data:\n",
    "X_train = pd.read_csv(\"train_X.csv\")\n",
    "Y_train = pd.read_csv(\"train_Y.csv\")\n",
    "X_test = pd.read_csv(\"test_X.csv\")\n",
    "Y_test = pd.read_csv(\"test_Y.csv\")\n",
    "\n",
    "X_train = X_train.drop(\"Id\", axis = 1)\n",
    "Y_train = Y_train.drop(\"Id\", axis = 1)\n",
    "X_test = X_test.drop(\"Id\", axis = 1)\n",
    "Y_test = Y_test.drop(\"Id\", axis = 1)\n",
    "\n",
    "X_train = X_train.values\n",
    "Y_train = Y_train.values\n",
    "X_test = X_test.values\n",
    "Y_test = Y_test.values"
   ]
  },
  {
   "cell_type": "code",
   "execution_count": 678,
   "id": "opposed-hobby",
   "metadata": {},
   "outputs": [],
   "source": [
    "X_train = X_train.T\n",
    "Y_train = Y_train.reshape(1, X_train.shape[1])\n",
    "\n",
    "X_test = X_test.T\n",
    "Y_test = Y_test.reshape(1, X_test.shape[1])"
   ]
  },
  {
   "cell_type": "code",
   "execution_count": 797,
   "id": "cognitive-stable",
   "metadata": {},
   "outputs": [],
   "source": [
    "#1. Sigmoid function:\n",
    "def sigmoid(x):\n",
    "    return 1/(1 + np.exp(-1*x))"
   ]
  },
  {
   "cell_type": "code",
   "execution_count": 815,
   "id": "cultural-reynolds",
   "metadata": {},
   "outputs": [],
   "source": [
    "def model(X, Y, learning_rate, iterations):\n",
    "  m = X.shape[1]\n",
    "  n = X.shape[0]\n",
    "  W = np.zeros((n,1))\n",
    "  B = 0\n",
    "  cost_list = []\n",
    "  for i in range(iterations):\n",
    "    Z = np.dot(W.T, X) + B\n",
    "    A = sigmoid(Z)\n",
    "    # cost function\n",
    "    cost = -(1/m)*np.sum( Y*np.log(A) + (1-Y)*np.log(1-A))\n",
    "    # Gradient Descent\n",
    "    dW = (1/m)*np.dot(A-Y, X.T)\n",
    "    dB = (1/m)*np.sum(A - Y)\n",
    "    W = W - learning_rate*dW.T\n",
    "    B = B - learning_rate*dB\n",
    "    # Keeping track of our cost function value\n",
    "    cost_list.append(cost)\n",
    "  return W, B, cost_list"
   ]
  },
  {
   "cell_type": "code",
   "execution_count": 816,
   "id": "individual-construction",
   "metadata": {},
   "outputs": [],
   "source": [
    "def cost(htheta, y):\n",
    "    return -np.log(htheta) if y == 1 else -np.log(1-htheta)"
   ]
  },
  {
   "cell_type": "code",
   "execution_count": 817,
   "id": "ignored-tractor",
   "metadata": {},
   "outputs": [],
   "source": [
    "def htheta(X, theta):\n",
    "    return np.dot(X, theta)"
   ]
  },
  {
   "cell_type": "code",
   "execution_count": 818,
   "id": "provincial-secondary",
   "metadata": {},
   "outputs": [],
   "source": [
    "def hypo(X, theta):\n",
    "    return sigmoid(np.dot(X, theta))"
   ]
  },
  {
   "cell_type": "code",
   "execution_count": 819,
   "id": "lyric-freedom",
   "metadata": {},
   "outputs": [],
   "source": [
    "def compute_cost(X, y, theta):\n",
    "    #print(\"inside compute cost: \", X, y, theta)\n",
    "    #print(\"theta\", theta)\n",
    "    m = X.shape[0]\n",
    "    htheta = hypo(X, theta)\n",
    "    total_cost = (1/m)*np.dot(-y, np.log(htheta)) - np.dot((1-y), np.log(1-htheta))\n",
    "    return total_cost"
   ]
  },
  {
   "cell_type": "code",
   "execution_count": 823,
   "id": "superior-cemetery",
   "metadata": {},
   "outputs": [],
   "source": [
    "def gradient_descent(X, y, learning_rate, iterations):\n",
    "    alpha = learning_rate\n",
    "    m = X.shape[0]\n",
    "    #cost_history = []\n",
    "    theta = np.zeros((X.shape[1],))\n",
    "    scaler = preprocessing.StandardScaler().fit(X)\n",
    "    X = scaler.transform(X)\n",
    "    #clf = LogisticRegression(max_iter=10000).fit(X, y)\n",
    "    for iter in range(10_000):\n",
    "        theta = theta - (alpha/m)*np.dot(X.transpose(), (hypo(X, theta) - y))\n",
    "        #cost = compute_cost(X, y, theta)\n",
    "        #print(cost)\n",
    "        #print(\"theta\", theta)\n",
    "        #cost_history.append(cost)\n",
    "    W, B, cost_history = model(X_train, Y_train, learning_rate = learning_rate, iterations = iterations)\n",
    "    #print(W, B)\n",
    "    theta = np.insert(W, 0, B, axis=0)\n",
    "    #print(\"theta: \", theta)\n",
    "    #theta = clf.coef_[0]\n",
    "    #cost = compute_cost(X, y, theta)\n",
    "    return (theta, cost_history)"
   ]
  },
  {
   "cell_type": "code",
   "execution_count": 821,
   "id": "psychological-separate",
   "metadata": {},
   "outputs": [],
   "source": [
    "def predict(X, theta):\n",
    "    return np.round(sigmoid(np.dot(X.T, theta)))"
   ]
  },
  {
   "cell_type": "code",
   "execution_count": 766,
   "id": "parallel-spirituality",
   "metadata": {},
   "outputs": [],
   "source": [
    "df = pd.read_csv(\"sample_dataset.csv\")\n",
    "train, test = split_data(df, 0.8)"
   ]
  },
  {
   "cell_type": "code",
   "execution_count": 789,
   "id": "sapphire-adobe",
   "metadata": {},
   "outputs": [],
   "source": [
    "X = np.array(train[cols[0:len(cols)-1]].values.tolist())\n",
    "y = np.array(train[cols[len(cols)-1]].values.tolist())\n"
   ]
  },
  {
   "cell_type": "code",
   "execution_count": 790,
   "id": "vertical-lawsuit",
   "metadata": {},
   "outputs": [
    {
     "name": "stdout",
     "output_type": "stream",
     "text": [
      "cost: 0.4551779027210315\n",
      "theta:  [[ 0.40017697]\n",
      " [-0.59203288]\n",
      " [ 2.28111478]\n",
      " [-0.01756912]\n",
      " [-0.28143993]\n",
      " [-0.05550195]\n",
      " [ 0.00726924]\n",
      " [-0.00746496]]\n"
     ]
    }
   ],
   "source": [
    "iterations = 100_000\n",
    "learning_rate = 5e-4\n",
    "initial_cost = compute_cost(X, y, params)\n",
    "\n",
    "(params_optimal, cost_history) = gradient_descent(X, y,  \n",
    "                                                  learning_rate,\n",
    "                                                  iterations)\n",
    "print(\"cost:\", cost_history[len(cost_history)-1])\n",
    "print(\"theta: \", params_optimal)"
   ]
  },
  {
   "cell_type": "code",
   "execution_count": 796,
   "id": "signal-cocktail",
   "metadata": {},
   "outputs": [
    {
     "name": "stdout",
     "output_type": "stream",
     "text": [
      "prediction accuracy:  0.44434137291280146\n"
     ]
    }
   ],
   "source": [
    "X = np.array(test[cols[0:len(cols)-1]].values.tolist())\n",
    "y = np.array(test[cols[len(cols)-1]].values.tolist())\n",
    "\n",
    "summation = np.square(predict(X.T, params_optimal)-y)\n",
    "unique, counts = np.unique(summation, return_counts=True)\n",
    "counts = dict(zip(unique, counts))\n",
    "\n",
    "print(\"prediction accuracy: \", counts[0]/(counts[0]+counts[1]))"
   ]
  },
  {
   "cell_type": "code",
   "execution_count": 795,
   "id": "above-arrest",
   "metadata": {},
   "outputs": [
    {
     "data": {
      "image/png": "[encoded data removed]",
      "text/plain": [
       "<Figure size 432x288 with 1 Axes>"
      ]
     },
     "metadata": {
      "needs_background": "light"
     },
     "output_type": "display_data"
    }
   ],
   "source": [
    "#plot showing cost with iterations:\n",
    "plt.plot(np.arange(iterations), cost_history)\n",
    "plt.show()"
   ]
  },
  {
   "cell_type": "markdown",
   "id": "congressional-commissioner",
   "metadata": {},
   "source": [
    "# PART C : Traditional ML Techniques over MNIT GaitDataset"
   ]
  },
  {
   "cell_type": "markdown",
   "id": "virtual-moisture",
   "metadata": {},
   "source": [
    "**Task 1: Data reading and package setup**"
   ]
  },
  {
   "cell_type": "code",
   "execution_count": 472,
   "id": "saved-cheat",
   "metadata": {
    "scrolled": false
   },
   "outputs": [
    {
     "name": "stderr",
     "output_type": "stream",
     "text": [
      "Downloading...\n",
      "From: https://drive.google.com/uc?id=1Kec4lVrgIi34Ty_3cvsbsWEojcr5_hMb\n",
      "To: D:\\Desktop Files\\Beeta\\College\\6th Semester - Study Materials\\Data Mining\\Lab\\Lab8\\Assignment\\DM_Gait.xlsx\n",
      "\n",
      "  0%|          | 0.00/39.8k [00:00<?, ?B/s]\n",
      "100%|##########| 39.8k/39.8k [00:00<00:00, 1.73MB/s]\n"
     ]
    }
   ],
   "source": [
    "# Downloading the xlsx file:\n",
    "!gdown --id \"1Kec4lVrgIi34Ty_3cvsbsWEojcr5_hMb\""
   ]
  },
  {
   "cell_type": "code",
   "execution_count": 625,
   "id": "becoming-removal",
   "metadata": {},
   "outputs": [
    {
     "name": "stderr",
     "output_type": "stream",
     "text": [
      "c:\\users\\beeta\\appdata\\local\\programs\\python\\python39\\lib\\site-packages\\openpyxl\\worksheet\\_reader.py:308: UserWarning: Unknown extension is not supported and will be removed\n",
      "  warn(msg)\n"
     ]
    }
   ],
   "source": [
    "#Loading the excel file:\n",
    "xlsx = pd.ExcelFile('./DM_Gait.xlsx')\n",
    "\n",
    "#Declaring all_sheets list which will store all the sheets' dataframes\n",
    "all_sheets = []\n",
    "\n",
    "#Iterating through every sheet in the excel file and storing the data of each sheet in the all_sheets list:\n",
    "for sheet_name in xlsx.sheet_names:\n",
    "    all_sheets.append({\"name\": sheet_name,\n",
    "                        \"df\": pd.read_excel(xlsx, sheet_name)})"
   ]
  },
  {
   "cell_type": "code",
   "execution_count": 626,
   "id": "distinct-isolation",
   "metadata": {},
   "outputs": [
    {
     "name": "stdout",
     "output_type": "stream",
     "text": [
      "Already deleted the rows!\n"
     ]
    }
   ],
   "source": [
    "#Deleting the last two null and duplicate rows:\n",
    "try:\n",
    "    all_sheets[0][\"df\"] = all_sheets[0][\"df\"].drop(index=[113, 114], axis=1)\n",
    "except:\n",
    "    print(\"Already deleted the rows!\")"
   ]
  },
  {
   "cell_type": "code",
   "execution_count": 627,
   "id": "similar-brave",
   "metadata": {},
   "outputs": [],
   "source": [
    "#Deleting the last two null and duplicate rows:\n",
    "try:\n",
    "    all_sheets[1][\"df\"] = all_sheets[1][\"df\"].drop(index=[113,114], axis=1)\n",
    "except:\n",
    "    print(\"Already deleted the rows!\")"
   ]
  },
  {
   "cell_type": "code",
   "execution_count": 628,
   "id": "familiar-crowd",
   "metadata": {},
   "outputs": [],
   "source": [
    "#Merging the first and second sheet for easier coding:\n",
    "merged_df = pd.merge(all_sheets[0][\"df\"], all_sheets[1][\"df\"], right_on=\"Unnamed: 0\", left_on=\"Subject #\")\n",
    "merged_df = merged_df.drop(columns=['Unnamed: 0'])"
   ]
  },
  {
   "cell_type": "code",
   "execution_count": 629,
   "id": "present-magic",
   "metadata": {},
   "outputs": [],
   "source": [
    "#Dropping S.NO and Subject#:\n",
    "columns_to_delete = [\"S.No \", \"Subject #\"]\n",
    "try:\n",
    "    merged_df = merged_df.drop(columns=columns_to_delete)\n",
    "except:\n",
    "    print(\"S.No and Subject # columns don't exist anymore.\")"
   ]
  },
  {
   "cell_type": "code",
   "execution_count": 630,
   "id": "sitting-texas",
   "metadata": {},
   "outputs": [],
   "source": [
    "#Mapping gender:\n",
    "genders = {\"M\": 0, \"F\": 1, \n",
    "           1: 1, 0: 0}\n",
    "merged_df['Gender'] = merged_df['Gender'].map(genders)"
   ]
  },
  {
   "cell_type": "code",
   "execution_count": 631,
   "id": "moderate-techno",
   "metadata": {},
   "outputs": [],
   "source": [
    "#We can remove height and weight because we have BMI as a column that contains a better representation of these two combined:\n",
    "try:\n",
    "    merged_df = merged_df.drop(columns=['Height (m)', 'Weight (Kg)'])\n",
    "except:\n",
    "    print(\"These columns have already been dropped.\")"
   ]
  },
  {
   "cell_type": "code",
   "execution_count": 632,
   "id": "secure-medicaid",
   "metadata": {},
   "outputs": [],
   "source": [
    "#We can also remove foot length because every subject is wearing a shoe and their foot length is not being considered in this particular experiment:\n",
    "try:\n",
    "    merged_df = merged_df.drop(columns=['Foot Length (cM)'])\n",
    "except:\n",
    "    print(\"The column have already been dropped.\")"
   ]
  },
  {
   "cell_type": "code",
   "execution_count": 633,
   "id": "intellectual-dress",
   "metadata": {},
   "outputs": [
    {
     "data": {
      "text/html": [
       "<div>\n",
       "<style scoped>\n",
       "    .dataframe tbody tr th:only-of-type {\n",
       "        vertical-align: middle;\n",
       "    }\n",
       "\n",
       "    .dataframe tbody tr th {\n",
       "        vertical-align: top;\n",
       "    }\n",
       "\n",
       "    .dataframe thead th {\n",
       "        text-align: right;\n",
       "    }\n",
       "</style>\n",
       "<table border=\"1\" class=\"dataframe\">\n",
       "  <thead>\n",
       "    <tr style=\"text-align: right;\">\n",
       "      <th></th>\n",
       "      <th>Gender</th>\n",
       "      <th>Age (Year)</th>\n",
       "      <th>BMI</th>\n",
       "      <th>Leg Length (m)</th>\n",
       "      <th>Thigh Length (m)</th>\n",
       "      <th>Calf Length</th>\n",
       "      <th>Mallelous height -L</th>\n",
       "      <th>Shoe No</th>\n",
       "      <th>Waist width (inches)</th>\n",
       "      <th>Bi-illiac width (m)</th>\n",
       "      <th>Stance</th>\n",
       "      <th>Swing</th>\n",
       "      <th>Velocity</th>\n",
       "      <th>Cadence</th>\n",
       "      <th>Stride_len</th>\n",
       "      <th>Step_Length</th>\n",
       "    </tr>\n",
       "  </thead>\n",
       "  <tbody>\n",
       "    <tr>\n",
       "      <th>0</th>\n",
       "      <td>0</td>\n",
       "      <td>30</td>\n",
       "      <td>20.147972</td>\n",
       "      <td>0.930</td>\n",
       "      <td>0.52</td>\n",
       "      <td>0.410</td>\n",
       "      <td>0.075</td>\n",
       "      <td>8.0</td>\n",
       "      <td>31.0</td>\n",
       "      <td>0.79</td>\n",
       "      <td>66.001777</td>\n",
       "      <td>33.998223</td>\n",
       "      <td>1.096667</td>\n",
       "      <td>119.460451</td>\n",
       "      <td>1.211936</td>\n",
       "      <td>0.605968</td>\n",
       "    </tr>\n",
       "    <tr>\n",
       "      <th>1</th>\n",
       "      <td>0</td>\n",
       "      <td>27</td>\n",
       "      <td>19.151270</td>\n",
       "      <td>1.095</td>\n",
       "      <td>0.56</td>\n",
       "      <td>0.535</td>\n",
       "      <td>0.080</td>\n",
       "      <td>11.0</td>\n",
       "      <td>32.0</td>\n",
       "      <td>0.81</td>\n",
       "      <td>71.024500</td>\n",
       "      <td>28.975500</td>\n",
       "      <td>0.953300</td>\n",
       "      <td>152.714500</td>\n",
       "      <td>1.179800</td>\n",
       "      <td>0.589900</td>\n",
       "    </tr>\n",
       "    <tr>\n",
       "      <th>2</th>\n",
       "      <td>1</td>\n",
       "      <td>27</td>\n",
       "      <td>25.193720</td>\n",
       "      <td>0.815</td>\n",
       "      <td>0.46</td>\n",
       "      <td>0.355</td>\n",
       "      <td>0.650</td>\n",
       "      <td>5.0</td>\n",
       "      <td>34.0</td>\n",
       "      <td>0.87</td>\n",
       "      <td>69.542400</td>\n",
       "      <td>30.457600</td>\n",
       "      <td>1.067500</td>\n",
       "      <td>152.810000</td>\n",
       "      <td>1.102700</td>\n",
       "      <td>0.551300</td>\n",
       "    </tr>\n",
       "    <tr>\n",
       "      <th>3</th>\n",
       "      <td>1</td>\n",
       "      <td>22</td>\n",
       "      <td>23.834321</td>\n",
       "      <td>0.830</td>\n",
       "      <td>0.49</td>\n",
       "      <td>0.340</td>\n",
       "      <td>0.075</td>\n",
       "      <td>7.0</td>\n",
       "      <td>30.0</td>\n",
       "      <td>0.76</td>\n",
       "      <td>63.074124</td>\n",
       "      <td>36.925876</td>\n",
       "      <td>1.170000</td>\n",
       "      <td>119.694881</td>\n",
       "      <td>1.337395</td>\n",
       "      <td>0.668697</td>\n",
       "    </tr>\n",
       "    <tr>\n",
       "      <th>4</th>\n",
       "      <td>0</td>\n",
       "      <td>20</td>\n",
       "      <td>26.423570</td>\n",
       "      <td>0.840</td>\n",
       "      <td>0.47</td>\n",
       "      <td>0.370</td>\n",
       "      <td>0.080</td>\n",
       "      <td>8.0</td>\n",
       "      <td>34.0</td>\n",
       "      <td>0.87</td>\n",
       "      <td>68.209900</td>\n",
       "      <td>31.790100</td>\n",
       "      <td>0.995000</td>\n",
       "      <td>112.888200</td>\n",
       "      <td>0.964900</td>\n",
       "      <td>0.482400</td>\n",
       "    </tr>\n",
       "    <tr>\n",
       "      <th>...</th>\n",
       "      <td>...</td>\n",
       "      <td>...</td>\n",
       "      <td>...</td>\n",
       "      <td>...</td>\n",
       "      <td>...</td>\n",
       "      <td>...</td>\n",
       "      <td>...</td>\n",
       "      <td>...</td>\n",
       "      <td>...</td>\n",
       "      <td>...</td>\n",
       "      <td>...</td>\n",
       "      <td>...</td>\n",
       "      <td>...</td>\n",
       "      <td>...</td>\n",
       "      <td>...</td>\n",
       "      <td>...</td>\n",
       "    </tr>\n",
       "    <tr>\n",
       "      <th>109</th>\n",
       "      <td>0</td>\n",
       "      <td>25</td>\n",
       "      <td>22.230987</td>\n",
       "      <td>0.980</td>\n",
       "      <td>0.49</td>\n",
       "      <td>0.490</td>\n",
       "      <td>0.070</td>\n",
       "      <td>8.0</td>\n",
       "      <td>32.0</td>\n",
       "      <td>0.81</td>\n",
       "      <td>69.744575</td>\n",
       "      <td>30.255425</td>\n",
       "      <td>1.140000</td>\n",
       "      <td>138.123569</td>\n",
       "      <td>1.119287</td>\n",
       "      <td>0.559644</td>\n",
       "    </tr>\n",
       "    <tr>\n",
       "      <th>110</th>\n",
       "      <td>0</td>\n",
       "      <td>28</td>\n",
       "      <td>23.529412</td>\n",
       "      <td>0.880</td>\n",
       "      <td>0.49</td>\n",
       "      <td>0.390</td>\n",
       "      <td>0.070</td>\n",
       "      <td>7.0</td>\n",
       "      <td>30.0</td>\n",
       "      <td>0.76</td>\n",
       "      <td>67.857143</td>\n",
       "      <td>25.373134</td>\n",
       "      <td>1.120000</td>\n",
       "      <td>144.827586</td>\n",
       "      <td>1.158621</td>\n",
       "      <td>0.579310</td>\n",
       "    </tr>\n",
       "    <tr>\n",
       "      <th>111</th>\n",
       "      <td>0</td>\n",
       "      <td>55</td>\n",
       "      <td>22.338556</td>\n",
       "      <td>0.900</td>\n",
       "      <td>0.49</td>\n",
       "      <td>0.410</td>\n",
       "      <td>0.060</td>\n",
       "      <td>8.0</td>\n",
       "      <td>32.0</td>\n",
       "      <td>0.81</td>\n",
       "      <td>71.398990</td>\n",
       "      <td>28.601010</td>\n",
       "      <td>1.168000</td>\n",
       "      <td>152.549820</td>\n",
       "      <td>1.014113</td>\n",
       "      <td>0.507056</td>\n",
       "    </tr>\n",
       "    <tr>\n",
       "      <th>112</th>\n",
       "      <td>0</td>\n",
       "      <td>42</td>\n",
       "      <td>21.329365</td>\n",
       "      <td>0.940</td>\n",
       "      <td>0.55</td>\n",
       "      <td>0.390</td>\n",
       "      <td>0.060</td>\n",
       "      <td>7.0</td>\n",
       "      <td>36.0</td>\n",
       "      <td>0.92</td>\n",
       "      <td>68.125641</td>\n",
       "      <td>31.874359</td>\n",
       "      <td>1.212000</td>\n",
       "      <td>121.590259</td>\n",
       "      <td>1.468966</td>\n",
       "      <td>0.734483</td>\n",
       "    </tr>\n",
       "    <tr>\n",
       "      <th>113</th>\n",
       "      <td>0</td>\n",
       "      <td>53</td>\n",
       "      <td>23.071582</td>\n",
       "      <td>0.960</td>\n",
       "      <td>0.50</td>\n",
       "      <td>0.460</td>\n",
       "      <td>0.070</td>\n",
       "      <td>9.0</td>\n",
       "      <td>37.0</td>\n",
       "      <td>0.94</td>\n",
       "      <td>68.125641</td>\n",
       "      <td>31.874359</td>\n",
       "      <td>1.212000</td>\n",
       "      <td>121.590259</td>\n",
       "      <td>1.468966</td>\n",
       "      <td>0.734483</td>\n",
       "    </tr>\n",
       "  </tbody>\n",
       "</table>\n",
       "<p>114 rows × 16 columns</p>\n",
       "</div>"
      ],
      "text/plain": [
       "     Gender  Age (Year)        BMI  Leg Length (m)  Thigh Length (m)  \\\n",
       "0         0          30  20.147972           0.930              0.52   \n",
       "1         0          27  19.151270           1.095              0.56   \n",
       "2         1          27  25.193720           0.815              0.46   \n",
       "3         1          22  23.834321           0.830              0.49   \n",
       "4         0          20  26.423570           0.840              0.47   \n",
       "..      ...         ...        ...             ...               ...   \n",
       "109       0          25  22.230987           0.980              0.49   \n",
       "110       0          28  23.529412           0.880              0.49   \n",
       "111       0          55  22.338556           0.900              0.49   \n",
       "112       0          42  21.329365           0.940              0.55   \n",
       "113       0          53  23.071582           0.960              0.50   \n",
       "\n",
       "     Calf Length  Mallelous height -L  Shoe No  Waist width (inches)  \\\n",
       "0          0.410                0.075      8.0                  31.0   \n",
       "1          0.535                0.080     11.0                  32.0   \n",
       "2          0.355                0.650      5.0                  34.0   \n",
       "3          0.340                0.075      7.0                  30.0   \n",
       "4          0.370                0.080      8.0                  34.0   \n",
       "..           ...                  ...      ...                   ...   \n",
       "109        0.490                0.070      8.0                  32.0   \n",
       "110        0.390                0.070      7.0                  30.0   \n",
       "111        0.410                0.060      8.0                  32.0   \n",
       "112        0.390                0.060      7.0                  36.0   \n",
       "113        0.460                0.070      9.0                  37.0   \n",
       "\n",
       "     Bi-illiac width (m)     Stance      Swing  Velocity     Cadence  \\\n",
       "0                   0.79  66.001777  33.998223  1.096667  119.460451   \n",
       "1                   0.81  71.024500  28.975500  0.953300  152.714500   \n",
       "2                   0.87  69.542400  30.457600  1.067500  152.810000   \n",
       "3                   0.76  63.074124  36.925876  1.170000  119.694881   \n",
       "4                   0.87  68.209900  31.790100  0.995000  112.888200   \n",
       "..                   ...        ...        ...       ...         ...   \n",
       "109                 0.81  69.744575  30.255425  1.140000  138.123569   \n",
       "110                 0.76  67.857143  25.373134  1.120000  144.827586   \n",
       "111                 0.81  71.398990  28.601010  1.168000  152.549820   \n",
       "112                 0.92  68.125641  31.874359  1.212000  121.590259   \n",
       "113                 0.94  68.125641  31.874359  1.212000  121.590259   \n",
       "\n",
       "     Stride_len  Step_Length  \n",
       "0      1.211936     0.605968  \n",
       "1      1.179800     0.589900  \n",
       "2      1.102700     0.551300  \n",
       "3      1.337395     0.668697  \n",
       "4      0.964900     0.482400  \n",
       "..          ...          ...  \n",
       "109    1.119287     0.559644  \n",
       "110    1.158621     0.579310  \n",
       "111    1.014113     0.507056  \n",
       "112    1.468966     0.734483  \n",
       "113    1.468966     0.734483  \n",
       "\n",
       "[114 rows x 16 columns]"
      ]
     },
     "execution_count": 633,
     "metadata": {},
     "output_type": "execute_result"
    }
   ],
   "source": [
    "merged_df"
   ]
  },
  {
   "cell_type": "markdown",
   "id": "defensive-double",
   "metadata": {},
   "source": [
    "## **Task 2: Regression: Predict the age from the rest of features in the dataset**"
   ]
  },
  {
   "cell_type": "code",
   "execution_count": 634,
   "id": "random-calculator",
   "metadata": {},
   "outputs": [
    {
     "name": "stdout",
     "output_type": "stream",
     "text": [
      "optimal params: [ 0.00000000e+00 -1.09978659e+01  1.79842256e-01 -4.38443401e+00\n",
      "  1.17392986e+01 -1.61237328e+01  1.61469305e+00 -2.88297260e+00\n",
      " -7.22232371e+00  3.15461545e+02  3.75685201e-01 -6.78636234e-02\n",
      "  2.18619634e+00 -9.30675642e-02 -1.20770546e+05  2.41532677e+05] nan\n"
     ]
    },
    {
     "name": "stderr",
     "output_type": "stream",
     "text": [
      "c:\\users\\beeta\\appdata\\local\\programs\\python\\python39\\lib\\site-packages\\numpy\\core\\fromnumeric.py:87: RuntimeWarning: overflow encountered in reduce\n",
      "  return ufunc.reduce(obj, axis, dtype, out, **passkwargs)\n",
      "<ipython-input-587-af2f4c61318a>:3: RuntimeWarning: overflow encountered in square\n",
      "  total_cost = np.sum(np.square(np.dot(X, theta) - y))\n"
     ]
    }
   ],
   "source": [
    "train, test = split_data(merged_df, 0.8)\n",
    "\n",
    "X = np.array(train.drop([\"Age (Year)\"], axis=1).values.tolist(), dtype=np.float64)\n",
    "y = train[\"Age (Year)\"].values.tolist()\n",
    "\n",
    "X = np.nan_to_num(X, copy=True, nan=0.0)\n",
    "\n",
    "theta, final_cost = multiple_regression(X, y, 0.003, 1500)\n",
    "print(\"optimal params:\", theta, final_cost)"
   ]
  },
  {
   "cell_type": "code",
   "execution_count": 637,
   "id": "electrical-struggle",
   "metadata": {},
   "outputs": [],
   "source": [
    "X = np.array(test.drop([\"Age (Year)\"], axis=1).values.tolist(), dtype=np.float64)\n",
    "y = test[\"Age (Year)\"].values.tolist()\n",
    "\n",
    "X = np.nan_to_num(X, copy=True, nan=0.0)\n",
    "X = np.insert(X, 0, [0 for elem in range(len(X))], axis=1)"
   ]
  },
  {
   "cell_type": "code",
   "execution_count": 648,
   "id": "individual-threat",
   "metadata": {},
   "outputs": [
    {
     "name": "stdout",
     "output_type": "stream",
     "text": [
      "The mean square error is 9887.698958464449\n"
     ]
    }
   ],
   "source": [
    "mean_square_error = np.sum(np.square(predict(X, theta) - y))\n",
    "print(\"The mean square error is\", mean_square_error)"
   ]
  },
  {
   "cell_type": "markdown",
   "id": "human-attempt",
   "metadata": {},
   "source": [
    "## **Task 3: Logistic Regression: Identify the gender from the rest of the features in the dataset**"
   ]
  },
  {
   "cell_type": "code",
   "execution_count": 813,
   "id": "saving-impossible",
   "metadata": {},
   "outputs": [
    {
     "name": "stdout",
     "output_type": "stream",
     "text": [
      "[0, 1, 0, 1, 0, 1, 0, 0, 1, 0, 0, 1, 0, 0, 1, 0, 1, 0, 0, 0, 0, 0, 0, 1, 0, 1, 0, 1, 0, 0, 1, 0, 0, 0, 0, 0, 0, 0, 0, 0, 0, 1, 0, 0, 1, 1, 0, 1, 0, 0, 0, 0, 0, 1, 0, 1, 0, 1, 0, 0, 0, 0, 0, 0, 0, 0, 0, 0, 0, 0, 0, 1, 0, 0, 0, 0, 0, 0, 0, 1, 1, 0, 0, 0, 1, 0, 0, 0, 0, 0, 0]\n"
     ]
    }
   ],
   "source": [
    "train, test = split_data(merged_df, 0.8)\n",
    "\n",
    "X = np.array(train.drop([\"Gender\"], axis=1).values.tolist(), dtype=np.float64)\n",
    "y = train[\"Gender\"].values.tolist()\n",
    "\n",
    "X = np.nan_to_num(X, copy=True, nan=0.0)\n",
    "print(y)"
   ]
  },
  {
   "cell_type": "code",
   "execution_count": 827,
   "id": "hungarian-light",
   "metadata": {},
   "outputs": [],
   "source": [
    "iterations = 10000\n",
    "learning_rate = 5e-5\n",
    "\n",
    "(params_optimal, cost_history) = gradient_descent(X, y,  \n",
    "                                                  learning_rate,\n",
    "                                                  iterations)"
   ]
  },
  {
   "cell_type": "code",
   "execution_count": 830,
   "id": "artificial-opera",
   "metadata": {
    "scrolled": true
   },
   "outputs": [
    {
     "name": "stdout",
     "output_type": "stream",
     "text": [
      "params optimal: [[-0.0080954 ]\n",
      " [-0.06199121]\n",
      " [ 0.05159142]\n",
      " [-0.02407003]\n",
      " [-0.03527083]\n",
      " [-0.00451643]\n",
      " [ 0.01438024]\n",
      " [-0.01434961]]\n",
      "final cost: 0.6128279672178032\n"
     ]
    }
   ],
   "source": [
    "print(\"params optimal:\", params_optimal)\n",
    "print(\"final cost:\", cost_history[-1])"
   ]
  },
  {
   "cell_type": "code",
   "execution_count": 832,
   "id": "operating-laptop",
   "metadata": {},
   "outputs": [],
   "source": [
    "#Doing for test data:\n",
    "X = np.array(test.drop([\"Gender\"], axis=1).values.tolist(), dtype=np.float64)\n",
    "y = test[\"Gender\"].values.tolist()\n",
    "\n",
    "X = np.nan_to_num(X, copy=True, nan=0.0)"
   ]
  },
  {
   "cell_type": "code",
   "execution_count": 834,
   "id": "violent-sunday",
   "metadata": {
    "scrolled": false
   },
   "outputs": [
    {
     "data": {
      "image/png": "[encoded data removed]",
      "text/plain": [
       "<Figure size 432x288 with 1 Axes>"
      ]
     },
     "metadata": {
      "needs_background": "light"
     },
     "output_type": "display_data"
    }
   ],
   "source": [
    "#plot showing cost with iterations:\n",
    "plt.plot(np.arange(iterations), cost_history)\n",
    "plt.show()"
   ]
  },
  {
   "cell_type": "markdown",
   "id": "desirable-writer",
   "metadata": {},
   "source": [
    "## **Task 4: Take any subject's knee angle and try to predict the knee angle for thenext gait cycle.**"
   ]
  },
  {
   "cell_type": "code",
   "execution_count": 881,
   "id": "competitive-julian",
   "metadata": {},
   "outputs": [],
   "source": [
    "import math\n",
    "df = all_sheets[2][\"df\"]\n",
    "knee_angle_values = df.iloc[1][1:].values.tolist()\n",
    "knee_angle_values = [elem for elem in knee_angle_values if not math.isnan(elem)]"
   ]
  },
  {
   "cell_type": "code",
   "execution_count": 891,
   "id": "unlike-synthesis",
   "metadata": {},
   "outputs": [],
   "source": [
    "y = knee_angle_values\n",
    "X = list(range(len(knee_angle_values)))\n",
    "X = [[elem] for elem in X]"
   ]
  },
  {
   "cell_type": "code",
   "execution_count": 892,
   "id": "limiting-auction",
   "metadata": {
    "scrolled": true
   },
   "outputs": [],
   "source": [
    "(slope, intercept, final_cost) = linear_regression(X, y, 0.00003, 1500)"
   ]
  },
  {
   "cell_type": "code",
   "execution_count": 893,
   "id": "meaning-first",
   "metadata": {},
   "outputs": [
    {
     "name": "stdout",
     "output_type": "stream",
     "text": [
      "0.4948432788906137\n"
     ]
    }
   ],
   "source": [
    "print(slope)"
   ]
  },
  {
   "cell_type": "code",
   "execution_count": 894,
   "id": "negative-shadow",
   "metadata": {
    "scrolled": true
   },
   "outputs": [
    {
     "name": "stdout",
     "output_type": "stream",
     "text": [
      "0.0\n"
     ]
    }
   ],
   "source": [
    "print(intercept)"
   ]
  },
  {
   "cell_type": "code",
   "execution_count": 895,
   "id": "wicked-generic",
   "metadata": {},
   "outputs": [
    {
     "data": {
      "text/plain": [
       "138.64843966398098"
      ]
     },
     "execution_count": 895,
     "metadata": {},
     "output_type": "execute_result"
    }
   ],
   "source": [
    "final_cost"
   ]
  },
  {
   "cell_type": "code",
   "execution_count": 901,
   "id": "weighted-pearl",
   "metadata": {},
   "outputs": [],
   "source": [
    "predicted_knee_angle = predict(X[-1][0]+1, [intercept, slope])"
   ]
  },
  {
   "cell_type": "code",
   "execution_count": 902,
   "id": "primary-nerve",
   "metadata": {},
   "outputs": [
    {
     "name": "stdout",
     "output_type": "stream",
     "text": [
      "The predicted knee angle is: 24.742163944530684\n"
     ]
    }
   ],
   "source": [
    "print(\"The predicted knee angle is:\", predicted_knee_angle[1])"
   ]
  }
 ],
 "metadata": {
  "kernelspec": {
   "display_name": "Python 3",
   "language": "python",
   "name": "python3"
  },
  "language_info": {
   "codemirror_mode": {
    "name": "ipython",
    "version": 3
   },
   "file_extension": ".py",
   "mimetype": "text/x-python",
   "name": "python",
   "nbconvert_exporter": "python",
   "pygments_lexer": "ipython3",
   "version": "3.9.0"
  }
 },
 "nbformat": 4,
 "nbformat_minor": 5
}
