{
 "cells": [
  {
   "cell_type": "markdown",
   "metadata": {
    "id": "hmyqDQu3I2Bt"
   },
   "source": [
    "<a href=\"https://colab.research.google.com/github/prakash27/CSL522_ML/blob/master/assignments/Assignment_1_Python_Introduction.ipynb\" target=\"_parent\"><img src=\"https://colab.research.google.com/assets/colab-badge.svg\" alt=\"Open In Colab\"/></a>"
   ]
  },
  {
   "cell_type": "markdown",
   "metadata": {
    "id": "rji2_HwXI2By"
   },
   "source": [
    "# CSB352: Data Mining \n",
    "\n",
    "**Instructor** : [Dr. Chandra Prakash]\n",
    "\n",
    "* For more information visit the [class website](https://cprakash86.wordpress.com/csb352_s21/).\n"
   ]
  },
  {
   "cell_type": "markdown",
   "metadata": {
    "id": "kOvITb83I2Bz"
   },
   "source": [
    "# LAB_1_Assignment : Introduction to Python \n",
    "**Due Date: 09-Jan-2021**\n",
    "\n",
    "\n",
    "**Student Name: Yuvraj Singh Champawat**\n",
    "\n",
    "\n",
    "**Roll Number: 181210064**"
   ]
  },
  {
   "cell_type": "markdown",
   "metadata": {
    "id": "NbAJ0fqZI2Bz"
   },
   "source": [
    "# Assignment Instructions\n",
    "\n",
    "\n",
    "You must save your as Assignment_NO_Yourname\n",
    "\n",
    "**Assignment 1 :** To complete assignment one, first you have to add your name and roll no in the Google Colab Instructions section below and print it. Perform the 10 task given in the assignment and submit it over Microsoft Team. \n",
    "\n",
    "Your source file will most likely end in **.pynb** if you are using a Jupyter notebook; however, it might also end in **.py** if you are using a Python script.\n",
    "\n"
   ]
  },
  {
   "cell_type": "markdown",
   "metadata": {
    "id": "4jt8KqCCpE4Z"
   },
   "source": [
    " "
   ]
  },
  {
   "cell_type": "markdown",
   "metadata": {
    "id": "jJ_nd_ZuI2Bz"
   },
   "source": [
    "# Google CoLab Instructions\n",
    "\n",
    "The following code ensures that Google CoLab is running the correct version of TensorFlow.\n",
    "\n"
   ]
  },
  {
   "cell_type": "code",
   "execution_count": 53,
   "metadata": {
    "colab": {
     "base_uri": "https://localhost:8080/"
    },
    "id": "2wC29QeBI2B0",
    "outputId": "981d09a1-3f3a-4f74-db3d-3580d2ac8245"
   },
   "outputs": [
    {
     "name": "stdout",
     "output_type": "stream",
     "text": [
      "Hello World\n",
      "Note: using Google CoLab\n",
      "\n",
      "\n",
      "My name is Yuvraj Singh Champawat\n",
      "\n",
      "My Roll Number is 181210064\n"
     ]
    }
   ],
   "source": [
    "try:\n",
    "    from google.colab import drive\n",
    "    %tensorflow_version 2.x\n",
    "    COLAB = True\n",
    "    print(\"Hello World\")\n",
    "    print(\"Note: using Google CoLab\")\n",
    "    \n",
    "except:\n",
    "    print(\"Hello NITD\")\n",
    "    print(\"Note: not using Google CoLab\")\n",
    "    COLAB = False\n",
    "    \n",
    "# Print your name and Roll No. \n",
    "# Print the curent time \n",
    "\n",
    "print('\\n\\nMy name is Yuvraj Singh Champawat')\n",
    "print('\\nMy Roll Number is 181210064')"
   ]
  },
  {
   "cell_type": "markdown",
   "metadata": {
    "id": "R9Bv34GsovHd"
   },
   "source": [
    "**Exercise 1.** Create following list:\n",
    "\n",
    "data = [2,34,23,16,56,45,34,26,78,56,1,16]\n",
    "\n",
    "Write a function to count number of elements in a list . <br> \n",
    "Now delete the duplicate values and print the list in ascending order. "
   ]
  },
  {
   "cell_type": "code",
   "execution_count": 54,
   "metadata": {
    "colab": {
     "base_uri": "https://localhost:8080/"
    },
    "id": "esARDCHLoysa",
    "outputId": "65e2d1f4-fe20-40a7-a622-b9ab90d0d2a4"
   },
   "outputs": [
    {
     "name": "stdout",
     "output_type": "stream",
     "text": [
      "Total elements present in given list are:  12\n",
      "Total elements present in given list are:  12\n"
     ]
    }
   ],
   "source": [
    "#Write your code here\n",
    "data = [2,34,23,16,56,45,34,26,78,56,1,16]\n",
    "\n",
    "#Fucntion to count number of items in data list\n",
    "def count_number_of_elements(data):\n",
    "  count = 0\n",
    "  for i in data:\n",
    "    count = count+1\n",
    "  print('Total elements present in given list are:  ' + str(count))\n",
    "\n",
    "#Fucntion to count number of items in data list using len() function\n",
    "def count_using_func (data):\n",
    "  count = len(data)\n",
    "  print('Total elements present in given list are:  ' + str(count))\n",
    "\n",
    "count_number_of_elements(data)\n",
    "count_using_func(data)"
   ]
  },
  {
   "cell_type": "code",
   "execution_count": 55,
   "metadata": {
    "colab": {
     "base_uri": "https://localhost:8080/"
    },
    "id": "h3ptcoAHMgbG",
    "outputId": "631f3ad8-7656-4949-a52a-674ed02031d8"
   },
   "outputs": [
    {
     "name": "stdout",
     "output_type": "stream",
     "text": [
      "[1, 2, 16, 23, 26, 34, 45, 56, 78]\n",
      "[1, 2, 16, 23, 26, 34, 45, 56, 78]\n",
      "[1, 2, 16, 23, 26, 34, 45, 56, 78]\n"
     ]
    }
   ],
   "source": [
    "#Write your code here\n",
    "data = [2,34,23,16,56,45,34,26,78,56,1,16]\n",
    "\n",
    "import numpy as np\n",
    "\n",
    "#Function to remove duplicate items and sort remaining items using extra list temp_list\n",
    "def asc_order_no_duplicate(data):\n",
    "  temp_list = []\n",
    "  for item in data:\n",
    "    if item not in temp_list:\n",
    "      temp_list.append(item)\n",
    "  temp_list.sort()\n",
    "  print(temp_list)\n",
    "\n",
    "#Function to remove duplicate items and sort remaining items using set() and list() functions\n",
    "def task_using_func (data):\n",
    "  temp_list = set(data)\n",
    "  temp_list = list(temp_list)\n",
    "  temp_list.sort()\n",
    "  print(temp_list)\n",
    "\n",
    "#Function to remove duplicate items and sort remaining items using Numpy unique() and tolist() functions\n",
    "def task_using_numpy (data):\n",
    "  temp_list = np.unique(data).tolist()\n",
    "  temp_list.sort()\n",
    "  print(temp_list)\n",
    "  \n",
    "\n",
    "asc_order_no_duplicate(data)\n",
    "task_using_func(data)\n",
    "task_using_numpy(data)"
   ]
  },
  {
   "cell_type": "markdown",
   "metadata": {
    "id": "5kImrrP2owii"
   },
   "source": [
    "**Exercise 2:** Take five numbers as input from the user and save into a list. Find the maximum of the list and sort the data in descending order."
   ]
  },
  {
   "cell_type": "code",
   "execution_count": 57,
   "metadata": {
    "colab": {
     "base_uri": "https://localhost:8080/"
    },
    "id": "O7U-8ShDosd-",
    "outputId": "18a617fc-867d-4195-c661-e2c987be7037"
   },
   "outputs": [
    {
     "name": "stdout",
     "output_type": "stream",
     "text": [
      "Enter 1 number 1\n",
      "Enter 2 number 4\n",
      "Enter 3 number 2\n",
      "Enter 4 number 5\n",
      "Enter 5 number 3\n",
      "\n",
      "Maximum element in list is  5\n",
      "[5, 4, 3, 2, 1]\n"
     ]
    }
   ],
   "source": [
    "#Write your code here\n",
    "\n",
    "data = []\n",
    "\n",
    "for i in range(5):\n",
    "  item = input('Enter ' + str(i+1) + ' number ')\n",
    "  data.append(int(item))\n",
    "\n",
    "#max element using max() function\n",
    "print('\\nMaximum element in list is ', max(data))\n",
    "\n",
    "#Sorting elements of data in descending order\n",
    "data.sort(reverse = True)\n",
    "print(data)"
   ]
  },
  {
   "cell_type": "markdown",
   "metadata": {
    "id": "asaJtrdPLu28"
   },
   "source": [
    "**Exercise 4:**\n",
    "\n",
    "(i) Generate two arrays A1 and A2 of size 5 X 4 and 3 X 4 respectively using np.random()\n",
    "\n",
    "(ii) Join them and make an array A3 of 8 X 4. Now append random numbers ranging between from 0 to 5 to make the fourth array A4 of size 10 X 10. \n",
    "\n",
    "(iii) Print all the arrays and their transpose ( Transpose of 'A' can be obtained by 'A.T') "
   ]
  },
  {
   "cell_type": "code",
   "execution_count": 37,
   "metadata": {
    "colab": {
     "base_uri": "https://localhost:8080/"
    },
    "id": "pNV0vFKtLuQJ",
    "outputId": "ab7d817b-a2f4-44b0-fc7c-dbc777151b36"
   },
   "outputs": [
    {
     "name": "stdout",
     "output_type": "stream",
     "text": [
      "A1 :  [[0.64466984 0.24340802 0.24671065 0.2249329 ]\n",
      " [0.02467587 0.33071847 0.26854963 0.69749059]\n",
      " [0.53785131 0.46586109 0.04314584 0.9966054 ]\n",
      " [0.0229113  0.4087229  0.18380234 0.31124747]\n",
      " [0.65996295 0.19209877 0.37600593 0.14146899]]\n",
      "\n",
      "A2 :  [[0.17152175 0.65272499 0.94441682 0.73083932]\n",
      " [0.07481601 0.89068717 0.04127738 0.95849568]\n",
      " [0.82710421 0.91709828 0.73336725 0.73043279]]\n",
      "\n",
      "A3 :  [[0.64466984 0.24340802 0.24671065 0.2249329 ]\n",
      " [0.02467587 0.33071847 0.26854963 0.69749059]\n",
      " [0.53785131 0.46586109 0.04314584 0.9966054 ]\n",
      " [0.0229113  0.4087229  0.18380234 0.31124747]\n",
      " [0.65996295 0.19209877 0.37600593 0.14146899]\n",
      " [0.17152175 0.65272499 0.94441682 0.73083932]\n",
      " [0.07481601 0.89068717 0.04127738 0.95849568]\n",
      " [0.82710421 0.91709828 0.73336725 0.73043279]]\n",
      "\n",
      "A4 :  [[0.64466984 0.24340802 0.24671065 0.2249329  3.         4.\n",
      "  4.         0.         0.         3.        ]\n",
      " [0.02467587 0.33071847 0.26854963 0.69749059 4.         2.\n",
      "  4.         2.         0.         2.        ]\n",
      " [0.53785131 0.46586109 0.04314584 0.9966054  0.         1.\n",
      "  1.         3.         2.         2.        ]\n",
      " [0.0229113  0.4087229  0.18380234 0.31124747 4.         2.\n",
      "  2.         0.         2.         2.        ]\n",
      " [0.65996295 0.19209877 0.37600593 0.14146899 3.         2.\n",
      "  0.         0.         1.         3.        ]\n",
      " [0.17152175 0.65272499 0.94441682 0.73083932 3.         1.\n",
      "  3.         3.         4.         3.        ]\n",
      " [0.07481601 0.89068717 0.04127738 0.95849568 1.         1.\n",
      "  0.         3.         3.         3.        ]\n",
      " [0.82710421 0.91709828 0.73336725 0.73043279 0.         4.\n",
      "  2.         4.         3.         3.        ]\n",
      " [3.         1.         3.         0.         4.         0.\n",
      "  3.         4.         3.         0.        ]\n",
      " [0.         2.         4.         0.         4.         3.\n",
      "  1.         0.         3.         4.        ]]\n",
      "\n",
      " Transpose of A1 :  [[0.64466984 0.02467587 0.53785131 0.0229113  0.65996295]\n",
      " [0.24340802 0.33071847 0.46586109 0.4087229  0.19209877]\n",
      " [0.24671065 0.26854963 0.04314584 0.18380234 0.37600593]\n",
      " [0.2249329  0.69749059 0.9966054  0.31124747 0.14146899]]\n",
      "\n",
      " Transpose of A2 :  [[0.17152175 0.07481601 0.82710421]\n",
      " [0.65272499 0.89068717 0.91709828]\n",
      " [0.94441682 0.04127738 0.73336725]\n",
      " [0.73083932 0.95849568 0.73043279]]\n",
      "\n",
      " Transpose of A3 :  [[0.64466984 0.02467587 0.53785131 0.0229113  0.65996295 0.17152175\n",
      "  0.07481601 0.82710421]\n",
      " [0.24340802 0.33071847 0.46586109 0.4087229  0.19209877 0.65272499\n",
      "  0.89068717 0.91709828]\n",
      " [0.24671065 0.26854963 0.04314584 0.18380234 0.37600593 0.94441682\n",
      "  0.04127738 0.73336725]\n",
      " [0.2249329  0.69749059 0.9966054  0.31124747 0.14146899 0.73083932\n",
      "  0.95849568 0.73043279]]\n",
      "\n",
      " Transpose of A4 :  [[0.64466984 0.02467587 0.53785131 0.0229113  0.65996295 0.17152175\n",
      "  0.07481601 0.82710421 3.         0.        ]\n",
      " [0.24340802 0.33071847 0.46586109 0.4087229  0.19209877 0.65272499\n",
      "  0.89068717 0.91709828 1.         2.        ]\n",
      " [0.24671065 0.26854963 0.04314584 0.18380234 0.37600593 0.94441682\n",
      "  0.04127738 0.73336725 3.         4.        ]\n",
      " [0.2249329  0.69749059 0.9966054  0.31124747 0.14146899 0.73083932\n",
      "  0.95849568 0.73043279 0.         0.        ]\n",
      " [3.         4.         0.         4.         3.         3.\n",
      "  1.         0.         4.         4.        ]\n",
      " [4.         2.         1.         2.         2.         1.\n",
      "  1.         4.         0.         3.        ]\n",
      " [4.         4.         1.         2.         0.         3.\n",
      "  0.         2.         3.         1.        ]\n",
      " [0.         2.         3.         0.         0.         3.\n",
      "  3.         4.         4.         0.        ]\n",
      " [0.         0.         2.         2.         1.         4.\n",
      "  3.         3.         3.         3.        ]\n",
      " [3.         2.         2.         2.         3.         3.\n",
      "  3.         3.         0.         4.        ]]\n"
     ]
    }
   ],
   "source": [
    "#Write your code here\n",
    "\n",
    "A1 = np.random.random((5, 4))\n",
    "A2 = np.random.random((3, 4))\n",
    "\n",
    "print('A1 : ', A1)\n",
    "print('\\nA2 : ', A2)\n",
    "\n",
    "A3 = np.concatenate((A1, A2), axis = 0)\n",
    "print('\\nA3 : ', A3)\n",
    "\n",
    "A4 = np.append(A3, np.random.randint(0, 5, size = (8, 6)), axis = 1)\n",
    "A4 = np.append(A4, np.random.randint(0, 5, size = (2, 10)), axis = 0)\n",
    "print('\\nA4 : ', A4)\n",
    "\n",
    "print('\\n Transpose of A1 : ', A1.transpose())\n",
    "print('\\n Transpose of A2 : ', A2.transpose())\n",
    "print('\\n Transpose of A3 : ', A3.transpose())\n",
    "print('\\n Transpose of A4 : ', A4.transpose())"
   ]
  },
  {
   "cell_type": "markdown",
   "metadata": {
    "id": "9pL_Rk-wL5Vb"
   },
   "source": [
    "**Exercise 5: Create two dictionaries.** \n",
    "\n",
    "The first dictionary 'name' will contain first name(key) of a person and its hash value(value). \n",
    "The Second will contain hash value(key) and mobile no(value). \n",
    "\n",
    "\n",
    "i) Add 5 entries.\n",
    "\n",
    "ii) Delete two entries by taking the input from user as the first name.\n",
    "\n",
    "ii) Add two entries by taking the input as the first name and mobile no. \n",
    "\n",
    "Hint: You can use remainder ( %) to obtain hash value. "
   ]
  },
  {
   "cell_type": "code",
   "execution_count": 45,
   "metadata": {
    "colab": {
     "base_uri": "https://localhost:8080/"
    },
    "id": "4fvI9c19tIv4",
    "outputId": "d7d02d38-95ea-4784-e34a-8c8d7cd011c8"
   },
   "outputs": [
    {
     "name": "stdout",
     "output_type": "stream",
     "text": [
      "Key Value pairs of name dictionary\n",
      "Raj 1\n",
      "Avi 2\n",
      "Dev 3\n",
      "Yuvi 4\n",
      "Veer 5\n",
      "\n",
      "\n",
      " Key Value pairs of mobile dictionary\n",
      "1 12345\n",
      "2 23456\n",
      "3 34567\n",
      "4 45678\n",
      "5 56789\n",
      "\n",
      " Enter name to delete from dictionary :  Raj\n",
      "\n",
      " Enter name to delete from dictionary :  Dev\n",
      "\n",
      " Enter name to add from dictionary :  Shagun\n",
      "\n",
      " Enter mobile number to add from dictionary :  23415\n",
      "\n",
      " Enter name to add from dictionary :  Ashu\n",
      "\n",
      " Enter mobile number to add from dictionary :  34521\n",
      "\n",
      "\n",
      " Key Value pairs of name dictionary\n",
      "Avi 2\n",
      "Yuvi 4\n",
      "Veer 5\n",
      "Shagun 15\n",
      "Ashu 21\n",
      "\n",
      "\n",
      " Key Value pairs of mobile dictionary\n",
      "2 23456\n",
      "4 45678\n",
      "5 56789\n",
      "15 23415\n",
      "21 34521\n"
     ]
    }
   ],
   "source": [
    "#Write your code here\n",
    "\n",
    "name = {'Raj' : 1, 'Avi' : 2, 'Dev' : 3, 'Yuvi' : 4, 'Veer' : 5}\n",
    "mobile = {1 : 12345, 2 : 23456, 3 : 34567, 4 : 45678, 5 : 56789}\n",
    "\n",
    "print('Key Value pairs of name dictionary')\n",
    "for item, value in name.items():\n",
    "  print(item, value)\n",
    "\n",
    "print('\\n\\n Key Value pairs of mobile dictionary')\n",
    "for item, value in mobile.items():\n",
    "  print(item, value)\n",
    "\n",
    "item_del = input('\\n Enter name to delete from dictionary :  ')\n",
    "value_del = name[item_del]\n",
    "del name[item_del]\n",
    "del mobile[value_del]\n",
    "\n",
    "item_del = input('\\n Enter name to delete from dictionary :  ')\n",
    "value_del = name[item_del]\n",
    "del name[item_del]\n",
    "del mobile[value_del]\n",
    "\n",
    "item_add = input('\\n Enter name to add from dictionary :  ')\n",
    "value_add = input('\\n Enter mobile number to add from dictionary :  ')\n",
    "hash_val = int(value_add) % 100\n",
    "\n",
    "name[item_add] = hash_val\n",
    "mobile[hash_val] = value_add\n",
    "\n",
    "item_add = input('\\n Enter name to add from dictionary :  ')\n",
    "value_add = input('\\n Enter mobile number to add from dictionary :  ')\n",
    "hash_val = int(value_add) % 100\n",
    "\n",
    "name[item_add] = hash_val\n",
    "mobile[hash_val] = value_add\n",
    "\n",
    "print('\\n\\n Key Value pairs of name dictionary')\n",
    "for item, value in name.items():\n",
    "  print(item, value)\n",
    "\n",
    "print('\\n\\n Key Value pairs of mobile dictionary')\n",
    "for item, value in mobile.items():\n",
    "  print(item, value)\n"
   ]
  },
  {
   "cell_type": "markdown",
   "metadata": {
    "id": "SsuXy_YmtDMQ"
   },
   "source": [
    "# PART 2: Introduction to NumPy    \n"
   ]
  },
  {
   "cell_type": "markdown",
   "metadata": {
    "id": "J5V8y0KSI2B2"
   },
   "source": [
    "**Exercise 6:** Write a NumPy program to create an element-wise comparison (greater, greater_equal, less and less_equal) of two given arrays"
   ]
  },
  {
   "cell_type": "code",
   "execution_count": 58,
   "metadata": {
    "colab": {
     "base_uri": "https://localhost:8080/"
    },
    "id": "b26wERkhI2B3",
    "outputId": "c2c04677-229b-4445-a401-d458d6c453e6"
   },
   "outputs": [
    {
     "name": "stdout",
     "output_type": "stream",
     "text": [
      "Original numbers:\n",
      "[3 5 1 4 7]\n",
      "[2 5 4 8 2]\n",
      "\n",
      "\n",
      "Comparison - greater\n",
      "[ True False False False  True]\n",
      "\n",
      "\n",
      "Comparison - greater_equal\n",
      "[ True  True False False  True]\n",
      "\n",
      "\n",
      "Comparison - less\n",
      "[False False  True  True False]\n",
      "\n",
      "\n",
      "Comparison - less_equal\n",
      "[False  True  True  True False]\n"
     ]
    }
   ],
   "source": [
    "#Write your code here\n",
    "\n",
    "x = np.array([3, 5, 1, 4, 7])\n",
    "y = np.array([2, 5, 4, 8, 2])\n",
    "\n",
    "print(\"Original numbers:\")\n",
    "print(x)\n",
    "print(y)\n",
    "\n",
    "print(\"\\n\\nComparison - greater\")\n",
    "print(np.greater(x, y))\n",
    "\n",
    "print(\"\\n\\nComparison - greater_equal\")\n",
    "print(np.greater_equal(x, y))\n",
    "\n",
    "print(\"\\n\\nComparison - less\")\n",
    "print(np.less(x, y))\n",
    "\n",
    "print(\"\\n\\nComparison - less_equal\")\n",
    "print(np.less_equal(x, y))"
   ]
  },
  {
   "cell_type": "markdown",
   "metadata": {
    "id": "-WtoZvEXI2B3"
   },
   "source": [
    "**Exercise 7:** Write a NumPy program to create an array with the values 100, 71, 113, 1050 and determine the size of the memory occupied by the array."
   ]
  },
  {
   "cell_type": "code",
   "execution_count": 59,
   "metadata": {
    "colab": {
     "base_uri": "https://localhost:8080/"
    },
    "id": "PVSv_RASI2B3",
    "outputId": "73dedd39-2ff6-44e3-915c-c804369c403c"
   },
   "outputs": [
    {
     "name": "stdout",
     "output_type": "stream",
     "text": [
      "Size of the array:  4\n",
      "\n",
      "Memory size of one array element in bytes:  8\n",
      "\n",
      "Memory size of numpy array in bytes: 32\n"
     ]
    }
   ],
   "source": [
    "#Write your code here\n",
    "\n",
    "x = np.array([100, 71, 113, 1050])\n",
    "print(\"Size of the array: \", x.size) \n",
    "  \n",
    "print(\"\\nMemory size of one array element in bytes: \", x.itemsize) \n",
    "  \n",
    "print(\"\\nMemory size of numpy array in bytes:\", x.size * x.itemsize)"
   ]
  },
  {
   "cell_type": "markdown",
   "metadata": {
    "id": "Qaw1cBPaI2B3"
   },
   "source": [
    "**Exercise 8:** Write a NumPy program to get the powers ( x ^ 3 ) of an array values element-wise\n",
    "\n",
    "\n",
    "Expected Output:\n",
    "Original array\n",
    "[1 2 3 4 5 ]\n",
    "Output array: \n",
    "[ 1 8 27 64 125 ]"
   ]
  },
  {
   "cell_type": "code",
   "execution_count": 48,
   "metadata": {
    "colab": {
     "base_uri": "https://localhost:8080/"
    },
    "id": "ikYEaISsI2B3",
    "outputId": "bbb70e4f-a329-4e35-8fe1-7465186fd448"
   },
   "outputs": [
    {
     "name": "stdout",
     "output_type": "stream",
     "text": [
      "[  1   8  27  64 125]\n"
     ]
    }
   ],
   "source": [
    "#Write your code here\n",
    "\n",
    "x = np.array([1, 2, 3, 4, 5])\n",
    "y = np.power(x, 3)\n",
    "print(y)"
   ]
  },
  {
   "cell_type": "markdown",
   "metadata": {
    "id": "hgqmz46II2B3"
   },
   "source": [
    "**Exercise 9:** Write a NumPy program to get the floor, ceiling and truncated values of the elements of a numpy array.\n",
    "Sample Output:\n",
    "Original array:\n",
    "[-1.3, -1.15, -0.1, 0.12, 1.7, 0.9, 1.1]"
   ]
  },
  {
   "cell_type": "code",
   "execution_count": 49,
   "metadata": {
    "colab": {
     "base_uri": "https://localhost:8080/"
    },
    "id": "6Ha5RsVUI2B4",
    "outputId": "7e8ddefb-a9a7-4a76-ffa0-aea2638680c2"
   },
   "outputs": [
    {
     "name": "stdout",
     "output_type": "stream",
     "text": [
      "[-2. -2. -1.  0.  1.  0.  1.]\n",
      "[-1. -1. -0.  1.  2.  1.  2.]\n",
      "[-1. -1. -0.  0.  1.  0.  1.]\n"
     ]
    }
   ],
   "source": [
    "#Write your code here\n",
    "\n",
    "x = np.array([-1.3, -1.15, -0.1, 0.12, 1.7, 0.9, 1.1])\n",
    "\n",
    "a = np.floor(x)\n",
    "b = np.ceil(x)\n",
    "c = np.trunc(x)\n",
    "\n",
    "print(a)\n",
    "print(b)\n",
    "print(c)"
   ]
  },
  {
   "cell_type": "markdown",
   "metadata": {
    "id": "v-_aFJ94I2B4"
   },
   "source": [
    "**Exercise 10:** Write a program in python to display prime numbers from x to y (here x and y are user given values)."
   ]
  },
  {
   "cell_type": "code",
   "execution_count": 51,
   "metadata": {
    "colab": {
     "base_uri": "https://localhost:8080/"
    },
    "id": "me6Q_sHiI2B4",
    "outputId": "2369ebf1-5953-475f-dabb-7100b22d15cf"
   },
   "outputs": [
    {
     "name": "stdout",
     "output_type": "stream",
     "text": [
      "Enter x : 1\n",
      "Enter y : 10\n",
      "2\n",
      "3\n",
      "5\n",
      "7\n"
     ]
    }
   ],
   "source": [
    "#Write your code here\n",
    "\n",
    "x = input('Enter x : ')\n",
    "y = input('Enter y : ')\n",
    "\n",
    "for num in range(int(x),int(y) + 1):  \n",
    "   if num > 1:  \n",
    "       for i in range(2,num):  \n",
    "           if (num % i) == 0:  \n",
    "               break  \n",
    "       else:  \n",
    "           print(num)  "
   ]
  },
  {
   "cell_type": "code",
   "execution_count": null,
   "metadata": {
    "id": "iQJhZfWuI2B4"
   },
   "outputs": [],
   "source": []
  },
  {
   "cell_type": "markdown",
   "metadata": {
    "id": "L76Qak5VI2B4"
   },
   "source": [
    "# Observation \\ Comments "
   ]
  },
  {
   "cell_type": "code",
   "execution_count": null,
   "metadata": {
    "id": "wOAnCEd7I2B4"
   },
   "outputs": [],
   "source": [
    "#Write your observation\\ Learning here\n",
    "\n",
    "# 1. Various function related to List data structure of Python\n",
    "# 2. Various function and concept of key-value pair related to Dictionary data structure of Python\n",
    "# 3. Various function and operations related to NumPy library of Python\n",
    "# 4. Function of Python"
   ]
  },
  {
   "cell_type": "markdown",
   "metadata": {
    "id": "J5wz83iSI2B4"
   },
   "source": [
    "## Hint : \n",
    "\n",
    "Reference Book to learn python: https://anandology.com/python-practice-book/getting-started.html"
   ]
  }
 ],
 "metadata": {
  "colab": {
   "collapsed_sections": [],
   "name": "LAB1_Assignment_1_Python_Introduction.ipynb",
   "provenance": []
  },
  "kernelspec": {
   "display_name": "Python 3",
   "language": "python",
   "name": "python3"
  },
  "language_info": {
   "codemirror_mode": {
    "name": "ipython",
    "version": 3
   },
   "file_extension": ".py",
   "mimetype": "text/x-python",
   "name": "python",
   "nbconvert_exporter": "python",
   "pygments_lexer": "ipython3",
   "version": "3.9.0"
  }
 },
 "nbformat": 4,
 "nbformat_minor": 1
}
